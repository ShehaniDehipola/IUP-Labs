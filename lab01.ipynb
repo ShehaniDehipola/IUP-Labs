
import cv2
import matplotlib.pyplot as plt

# Read the image
img = cv2.imread('flower.jpg') 

# Convert to grayscale
gray = cv2.cvtColor(img, cv2.COLOR_BGR2GRAY)

# Display using matplotlib
plt.imshow(gray, cmap='gray')
plt.title("Grayscale Image")
plt.axis("off")
plt.show()
